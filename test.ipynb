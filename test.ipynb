{
 "cells": [
  {
   "cell_type": "code",
   "id": "initial_id",
   "metadata": {
    "collapsed": true,
    "ExecuteTime": {
     "end_time": "2025-07-07T09:48:22.532145Z",
     "start_time": "2025-07-07T09:48:21.864824Z"
    }
   },
   "source": [
    "import requests\n",
    "\n",
    "API_URL = \"https://realtime-network-intrusion-detection.onrender.com/predict\"\n",
    "\n",
    "flow = {\n",
    "    \"total_bytes\": 920,\n",
    "    \"pkt_count\": 12,\n",
    "    \"psh_count\": 3,\n",
    "    \"fwd_bytes\": 67,\n",
    "    \"bwd_bytes\": 853,\n",
    "    \"fwd_pkts\": 7,\n",
    "    \"bwd_pkts\": 5,\n",
    "    \"dport\": 80,\n",
    "    \"duration_ms\": 98.17028045654297,\n",
    "    \"flow_pkts_per_s\": 122.23658671640486,\n",
    "    \"fwd_bwd_ratio\": 0.07854630715123095\n",
    "}\n",
    "\n",
    "try:\n",
    "    response = requests.post(API_URL, json=flow, timeout=10)\n",
    "    response.raise_for_status()  # Vérifie si la réponse contient une erreur HTTP\n",
    "    print(\"Réponse de l'API :\", response.json())\n",
    "except requests.exceptions.RequestException as e:\n",
    "    print(\"Erreur lors de la requête :\", e)"
   ],
   "outputs": [
    {
     "name": "stdout",
     "output_type": "stream",
     "text": [
      "Erreur lors de la requête : 503 Server Error: Service Unavailable for url: https://realtime-network-intrusion-detection.onrender.com/predict\n"
     ]
    }
   ],
   "execution_count": 31
  },
  {
   "metadata": {
    "ExecuteTime": {
     "end_time": "2025-07-07T09:43:23.054154Z",
     "start_time": "2025-07-07T09:43:22.807554Z"
    }
   },
   "cell_type": "code",
   "source": "response = requests.post(API_URL, json=flow, timeout=10)",
   "id": "dd4a209b52a2b771",
   "outputs": [],
   "execution_count": 29
  },
  {
   "metadata": {
    "ExecuteTime": {
     "end_time": "2025-07-07T09:43:30.241634Z",
     "start_time": "2025-07-07T09:43:30.219203Z"
    }
   },
   "cell_type": "code",
   "source": "response",
   "id": "af7b83bf43f9ac35",
   "outputs": [
    {
     "data": {
      "text/plain": [
       "<Response [503]>"
      ]
     },
     "execution_count": 30,
     "metadata": {},
     "output_type": "execute_result"
    }
   ],
   "execution_count": 30
  },
  {
   "metadata": {
    "ExecuteTime": {
     "end_time": "2025-07-06T21:22:02.150842Z",
     "start_time": "2025-07-06T21:22:02.125844Z"
    }
   },
   "cell_type": "code",
   "source": [
    "import sqlite3\n",
    "import pandas as pd\n",
    "\n",
    "conn = sqlite3.connect('reported_flows.db')\n",
    "df = pd.read_sql_query(\n",
    "    \"SELECT * FROM reported_flows ORDER BY reported_at DESC LIMIT 100\",\n",
    "    conn\n",
    ")\n",
    "conn.close()\n",
    "\n",
    "print(df)\n"
   ],
   "id": "dc63e7dbe7e54b5f",
   "outputs": [
    {
     "name": "stdout",
     "output_type": "stream",
     "text": [
      "   id                            flow_key      src_ip      dst_ip  sport  \\\n",
      "0   3  172.30.0.4:21-172.30.0.6:47830-TCP  172.30.0.6  172.30.0.4  47830   \n",
      "1   2  172.30.0.4:21-172.30.0.6:47830-TCP  172.30.0.6  172.30.0.4  47830   \n",
      "2   1  172.30.0.5:80-172.30.0.7:59834-TCP  172.30.0.7  172.30.0.5  59834   \n",
      "\n",
      "   dport protocol  total_bytes  pkt_count prediction  \\\n",
      "0     21      TCP          295         25              \n",
      "1     21      TCP          295         25              \n",
      "2     80      TCP          920         12        Mal   \n",
      "\n",
      "                                user_id          reported_at  \\\n",
      "0  eea3f842-1049-4b11-b629-aad2c3e56f92  2025-07-06 15:17:00   \n",
      "1  eea3f842-1049-4b11-b629-aad2c3e56f92  2025-07-06 15:16:55   \n",
      "2  eea3f842-1049-4b11-b629-aad2c3e56f92  2025-07-06 15:16:46   \n",
      "\n",
      "                                           flow_data  \n",
      "0  {\"flow_key\": \"172.30.0.4:21-172.30.0.6:47830-T...  \n",
      "1  {\"flow_key\": \"172.30.0.4:21-172.30.0.6:47830-T...  \n",
      "2  {\"flow_key\": \"172.30.0.5:80-172.30.0.7:59834-T...  \n"
     ]
    }
   ],
   "execution_count": 25
  },
  {
   "metadata": {
    "ExecuteTime": {
     "end_time": "2025-07-06T20:07:38.077642Z",
     "start_time": "2025-07-06T20:07:38.059637Z"
    }
   },
   "cell_type": "code",
   "source": "df",
   "id": "9bf7f5f54326a80",
   "outputs": [
    {
     "data": {
      "text/plain": [
       "   id                            flow_key      src_ip      dst_ip  sport  \\\n",
       "0   3  172.30.0.4:21-172.30.0.6:47830-TCP  172.30.0.6  172.30.0.4  47830   \n",
       "1   2  172.30.0.4:21-172.30.0.6:47830-TCP  172.30.0.6  172.30.0.4  47830   \n",
       "2   1  172.30.0.5:80-172.30.0.7:59834-TCP  172.30.0.7  172.30.0.5  59834   \n",
       "\n",
       "   dport protocol  total_bytes  pkt_count prediction  \\\n",
       "0     21      TCP          295         25              \n",
       "1     21      TCP          295         25              \n",
       "2     80      TCP          920         12        Mal   \n",
       "\n",
       "                                user_id          reported_at  \\\n",
       "0  eea3f842-1049-4b11-b629-aad2c3e56f92  2025-07-06 15:17:00   \n",
       "1  eea3f842-1049-4b11-b629-aad2c3e56f92  2025-07-06 15:16:55   \n",
       "2  eea3f842-1049-4b11-b629-aad2c3e56f92  2025-07-06 15:16:46   \n",
       "\n",
       "                                           flow_data  \n",
       "0  {\"flow_key\": \"172.30.0.4:21-172.30.0.6:47830-T...  \n",
       "1  {\"flow_key\": \"172.30.0.4:21-172.30.0.6:47830-T...  \n",
       "2  {\"flow_key\": \"172.30.0.5:80-172.30.0.7:59834-T...  "
      ],
      "text/html": [
       "<div>\n",
       "<style scoped>\n",
       "    .dataframe tbody tr th:only-of-type {\n",
       "        vertical-align: middle;\n",
       "    }\n",
       "\n",
       "    .dataframe tbody tr th {\n",
       "        vertical-align: top;\n",
       "    }\n",
       "\n",
       "    .dataframe thead th {\n",
       "        text-align: right;\n",
       "    }\n",
       "</style>\n",
       "<table border=\"1\" class=\"dataframe\">\n",
       "  <thead>\n",
       "    <tr style=\"text-align: right;\">\n",
       "      <th></th>\n",
       "      <th>id</th>\n",
       "      <th>flow_key</th>\n",
       "      <th>src_ip</th>\n",
       "      <th>dst_ip</th>\n",
       "      <th>sport</th>\n",
       "      <th>dport</th>\n",
       "      <th>protocol</th>\n",
       "      <th>total_bytes</th>\n",
       "      <th>pkt_count</th>\n",
       "      <th>prediction</th>\n",
       "      <th>user_id</th>\n",
       "      <th>reported_at</th>\n",
       "      <th>flow_data</th>\n",
       "    </tr>\n",
       "  </thead>\n",
       "  <tbody>\n",
       "    <tr>\n",
       "      <th>0</th>\n",
       "      <td>3</td>\n",
       "      <td>172.30.0.4:21-172.30.0.6:47830-TCP</td>\n",
       "      <td>172.30.0.6</td>\n",
       "      <td>172.30.0.4</td>\n",
       "      <td>47830</td>\n",
       "      <td>21</td>\n",
       "      <td>TCP</td>\n",
       "      <td>295</td>\n",
       "      <td>25</td>\n",
       "      <td></td>\n",
       "      <td>eea3f842-1049-4b11-b629-aad2c3e56f92</td>\n",
       "      <td>2025-07-06 15:17:00</td>\n",
       "      <td>{\"flow_key\": \"172.30.0.4:21-172.30.0.6:47830-T...</td>\n",
       "    </tr>\n",
       "    <tr>\n",
       "      <th>1</th>\n",
       "      <td>2</td>\n",
       "      <td>172.30.0.4:21-172.30.0.6:47830-TCP</td>\n",
       "      <td>172.30.0.6</td>\n",
       "      <td>172.30.0.4</td>\n",
       "      <td>47830</td>\n",
       "      <td>21</td>\n",
       "      <td>TCP</td>\n",
       "      <td>295</td>\n",
       "      <td>25</td>\n",
       "      <td></td>\n",
       "      <td>eea3f842-1049-4b11-b629-aad2c3e56f92</td>\n",
       "      <td>2025-07-06 15:16:55</td>\n",
       "      <td>{\"flow_key\": \"172.30.0.4:21-172.30.0.6:47830-T...</td>\n",
       "    </tr>\n",
       "    <tr>\n",
       "      <th>2</th>\n",
       "      <td>1</td>\n",
       "      <td>172.30.0.5:80-172.30.0.7:59834-TCP</td>\n",
       "      <td>172.30.0.7</td>\n",
       "      <td>172.30.0.5</td>\n",
       "      <td>59834</td>\n",
       "      <td>80</td>\n",
       "      <td>TCP</td>\n",
       "      <td>920</td>\n",
       "      <td>12</td>\n",
       "      <td>Mal</td>\n",
       "      <td>eea3f842-1049-4b11-b629-aad2c3e56f92</td>\n",
       "      <td>2025-07-06 15:16:46</td>\n",
       "      <td>{\"flow_key\": \"172.30.0.5:80-172.30.0.7:59834-T...</td>\n",
       "    </tr>\n",
       "  </tbody>\n",
       "</table>\n",
       "</div>"
      ]
     },
     "execution_count": 20,
     "metadata": {},
     "output_type": "execute_result"
    }
   ],
   "execution_count": 20
  },
  {
   "metadata": {
    "ExecuteTime": {
     "end_time": "2025-07-06T21:21:54.553380Z",
     "start_time": "2025-07-06T21:21:54.535380Z"
    }
   },
   "cell_type": "code",
   "source": [
    "import sqlite3\n",
    "\n",
    "conn = sqlite3.connect(\"reported_flows.db\")\n",
    "rows = conn.execute(\"SELECT count(*) FROM reported_flows\").fetchall()\n",
    "print(\"Rows:\", rows)\n"
   ],
   "id": "fbcb46237aa5d57b",
   "outputs": [
    {
     "name": "stdout",
     "output_type": "stream",
     "text": [
      "Rows: [(3,)]\n"
     ]
    }
   ],
   "execution_count": 24
  },
  {
   "metadata": {},
   "cell_type": "code",
   "outputs": [],
   "execution_count": null,
   "source": "",
   "id": "20b8267b225bb85"
  }
 ],
 "metadata": {
  "kernelspec": {
   "display_name": "Python 3",
   "language": "python",
   "name": "python3"
  },
  "language_info": {
   "codemirror_mode": {
    "name": "ipython",
    "version": 2
   },
   "file_extension": ".py",
   "mimetype": "text/x-python",
   "name": "python",
   "nbconvert_exporter": "python",
   "pygments_lexer": "ipython2",
   "version": "2.7.6"
  }
 },
 "nbformat": 4,
 "nbformat_minor": 5
}
